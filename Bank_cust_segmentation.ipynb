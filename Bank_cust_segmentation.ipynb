{
 "cells": [
  {
   "cell_type": "code",
   "execution_count": 175,
   "id": "61d210a5-6468-4d02-a321-23716e19978f",
   "metadata": {},
   "outputs": [],
   "source": [
    "import pandas as pd\n",
    "from datetime import datetime, date"
   ]
  },
  {
   "cell_type": "markdown",
   "id": "045a3c5c-19fb-4837-9344-12818b57b926",
   "metadata": {},
   "source": [
    "## Importing the Dataset"
   ]
  },
  {
   "cell_type": "code",
   "execution_count": 176,
   "id": "075f1a57-5f86-4d66-9135-065750421995",
   "metadata": {},
   "outputs": [
    {
     "data": {
      "text/html": [
       "<div>\n",
       "<style scoped>\n",
       "    .dataframe tbody tr th:only-of-type {\n",
       "        vertical-align: middle;\n",
       "    }\n",
       "\n",
       "    .dataframe tbody tr th {\n",
       "        vertical-align: top;\n",
       "    }\n",
       "\n",
       "    .dataframe thead th {\n",
       "        text-align: right;\n",
       "    }\n",
       "</style>\n",
       "<table border=\"1\" class=\"dataframe\">\n",
       "  <thead>\n",
       "    <tr style=\"text-align: right;\">\n",
       "      <th></th>\n",
       "      <th>TransactionID</th>\n",
       "      <th>CustomerID</th>\n",
       "      <th>CustomerDOB</th>\n",
       "      <th>CustGender</th>\n",
       "      <th>CustLocation</th>\n",
       "      <th>CustAccountBalance</th>\n",
       "      <th>TransactionDate</th>\n",
       "      <th>TransactionTime</th>\n",
       "      <th>TransactionAmount (INR)</th>\n",
       "    </tr>\n",
       "  </thead>\n",
       "  <tbody>\n",
       "    <tr>\n",
       "      <th>0</th>\n",
       "      <td>T1</td>\n",
       "      <td>C5841053</td>\n",
       "      <td>10-01-1994</td>\n",
       "      <td>F</td>\n",
       "      <td>JAMSHEDPUR</td>\n",
       "      <td>17819.05</td>\n",
       "      <td>02-08-2016</td>\n",
       "      <td>143207</td>\n",
       "      <td>25.0</td>\n",
       "    </tr>\n",
       "    <tr>\n",
       "      <th>1</th>\n",
       "      <td>T2</td>\n",
       "      <td>C2142763</td>\n",
       "      <td>04-04-1957</td>\n",
       "      <td>M</td>\n",
       "      <td>JHAJJAR</td>\n",
       "      <td>2270.69</td>\n",
       "      <td>02-08-2016</td>\n",
       "      <td>141858</td>\n",
       "      <td>27999.0</td>\n",
       "    </tr>\n",
       "    <tr>\n",
       "      <th>2</th>\n",
       "      <td>T3</td>\n",
       "      <td>C4417068</td>\n",
       "      <td>26-11-1996</td>\n",
       "      <td>F</td>\n",
       "      <td>MUMBAI</td>\n",
       "      <td>17874.44</td>\n",
       "      <td>02-08-2016</td>\n",
       "      <td>142712</td>\n",
       "      <td>459.0</td>\n",
       "    </tr>\n",
       "    <tr>\n",
       "      <th>3</th>\n",
       "      <td>T4</td>\n",
       "      <td>C5342380</td>\n",
       "      <td>14-09-1973</td>\n",
       "      <td>F</td>\n",
       "      <td>MUMBAI</td>\n",
       "      <td>866503.21</td>\n",
       "      <td>02-08-2016</td>\n",
       "      <td>142714</td>\n",
       "      <td>2060.0</td>\n",
       "    </tr>\n",
       "    <tr>\n",
       "      <th>4</th>\n",
       "      <td>T5</td>\n",
       "      <td>C9031234</td>\n",
       "      <td>24-03-1988</td>\n",
       "      <td>F</td>\n",
       "      <td>NAVI MUMBAI</td>\n",
       "      <td>6714.43</td>\n",
       "      <td>02-08-2016</td>\n",
       "      <td>181156</td>\n",
       "      <td>1762.5</td>\n",
       "    </tr>\n",
       "  </tbody>\n",
       "</table>\n",
       "</div>"
      ],
      "text/plain": [
       "  TransactionID CustomerID CustomerDOB CustGender CustLocation  \\\n",
       "0            T1   C5841053  10-01-1994          F   JAMSHEDPUR   \n",
       "1            T2   C2142763  04-04-1957          M      JHAJJAR   \n",
       "2            T3   C4417068  26-11-1996          F       MUMBAI   \n",
       "3            T4   C5342380  14-09-1973          F       MUMBAI   \n",
       "4            T5   C9031234  24-03-1988          F  NAVI MUMBAI   \n",
       "\n",
       "   CustAccountBalance TransactionDate  TransactionTime  \\\n",
       "0            17819.05      02-08-2016           143207   \n",
       "1             2270.69      02-08-2016           141858   \n",
       "2            17874.44      02-08-2016           142712   \n",
       "3           866503.21      02-08-2016           142714   \n",
       "4             6714.43      02-08-2016           181156   \n",
       "\n",
       "   TransactionAmount (INR)  \n",
       "0                     25.0  \n",
       "1                  27999.0  \n",
       "2                    459.0  \n",
       "3                   2060.0  \n",
       "4                   1762.5  "
      ]
     },
     "execution_count": 176,
     "metadata": {},
     "output_type": "execute_result"
    }
   ],
   "source": [
    "df = pd.read_csv('C:/Users/91987/OneDrive/Desktop/Amisha/Projects/SQL/Bank Customer Segmentation Dataset/bank_transactions.csv')\n",
    "df.head()"
   ]
  },
  {
   "cell_type": "code",
   "execution_count": 177,
   "id": "673b0ccf-c3f1-4db6-8366-ede760a34f27",
   "metadata": {},
   "outputs": [
    {
     "data": {
      "text/plain": [
       "(1048567, 9)"
      ]
     },
     "execution_count": 177,
     "metadata": {},
     "output_type": "execute_result"
    }
   ],
   "source": [
    "df.shape"
   ]
  },
  {
   "cell_type": "code",
   "execution_count": 178,
   "id": "a7c60872-4ddb-4401-8fd1-a3ef051e4c90",
   "metadata": {},
   "outputs": [
    {
     "name": "stdout",
     "output_type": "stream",
     "text": [
      "<class 'pandas.core.frame.DataFrame'>\n",
      "RangeIndex: 1048567 entries, 0 to 1048566\n",
      "Data columns (total 9 columns):\n",
      " #   Column                   Non-Null Count    Dtype  \n",
      "---  ------                   --------------    -----  \n",
      " 0   TransactionID            1048567 non-null  object \n",
      " 1   CustomerID               1048567 non-null  object \n",
      " 2   CustomerDOB              1045170 non-null  object \n",
      " 3   CustGender               1047467 non-null  object \n",
      " 4   CustLocation             1048416 non-null  object \n",
      " 5   CustAccountBalance       1046198 non-null  float64\n",
      " 6   TransactionDate          1048567 non-null  object \n",
      " 7   TransactionTime          1048567 non-null  int64  \n",
      " 8   TransactionAmount (INR)  1048567 non-null  float64\n",
      "dtypes: float64(2), int64(1), object(6)\n",
      "memory usage: 72.0+ MB\n"
     ]
    }
   ],
   "source": [
    "df.info()"
   ]
  },
  {
   "cell_type": "code",
   "execution_count": 179,
   "id": "9816aa4e-6084-4679-8020-7c42d0297579",
   "metadata": {},
   "outputs": [
    {
     "data": {
      "text/plain": [
       "TransactionID               object\n",
       "CustomerID                  object\n",
       "CustomerDOB                 object\n",
       "CustGender                  object\n",
       "CustLocation                object\n",
       "CustAccountBalance         float64\n",
       "TransactionDate             object\n",
       "TransactionTime              int64\n",
       "TransactionAmount (INR)    float64\n",
       "dtype: object"
      ]
     },
     "execution_count": 179,
     "metadata": {},
     "output_type": "execute_result"
    }
   ],
   "source": [
    "df.dtypes"
   ]
  },
  {
   "cell_type": "markdown",
   "id": "4b0f7b94-3de1-4e0c-930a-67705fd64548",
   "metadata": {},
   "source": [
    "#### Replacing error values from CustomerDOB column"
   ]
  },
  {
   "cell_type": "code",
   "execution_count": 180,
   "id": "867f8f27-a697-4f38-9277-a9603215edae",
   "metadata": {},
   "outputs": [],
   "source": [
    "df.loc[df['CustomerDOB'] == '1/1/1800', 'CustomerDOB'] = 'nan'"
   ]
  },
  {
   "cell_type": "markdown",
   "id": "0e8a5867-0d54-4e68-af4c-c2c8c8954860",
   "metadata": {},
   "source": [
    "##### Now Converting CustomerDOB and TransactionDate columns into date datatype"
   ]
  },
  {
   "cell_type": "code",
   "execution_count": 181,
   "id": "b9498b05-4536-43eb-83ac-5dadd50702d4",
   "metadata": {},
   "outputs": [],
   "source": [
    "df['CustomerDOB'] = pd.to_datetime(df['CustomerDOB'], errors='coerce', format='%d-%m-%Y')"
   ]
  },
  {
   "cell_type": "code",
   "execution_count": 182,
   "id": "bfa55b27-3775-4797-991a-df3378155595",
   "metadata": {},
   "outputs": [],
   "source": [
    "df['TransactionDate'] = pd.to_datetime(df['TransactionDate'], errors='coerce', format='%d-%m-%Y')"
   ]
  },
  {
   "cell_type": "code",
   "execution_count": 183,
   "id": "d9ce2230-fae5-4bf9-bebb-ac1ced5faf86",
   "metadata": {},
   "outputs": [
    {
     "data": {
      "text/plain": [
       "TransactionID                      object\n",
       "CustomerID                         object\n",
       "CustomerDOB                datetime64[ns]\n",
       "CustGender                         object\n",
       "CustLocation                       object\n",
       "CustAccountBalance                float64\n",
       "TransactionDate            datetime64[ns]\n",
       "TransactionTime                     int64\n",
       "TransactionAmount (INR)           float64\n",
       "dtype: object"
      ]
     },
     "execution_count": 183,
     "metadata": {},
     "output_type": "execute_result"
    }
   ],
   "source": [
    "df.dtypes"
   ]
  },
  {
   "cell_type": "markdown",
   "id": "009611f7-43ef-4d1f-9630-041dc150ee99",
   "metadata": {},
   "source": [
    "##### Converting CustLocation column value from uppercase to proper case"
   ]
  },
  {
   "cell_type": "code",
   "execution_count": 184,
   "id": "aae40704-c8f5-4972-b106-c406b8651d7e",
   "metadata": {},
   "outputs": [],
   "source": [
    "df['CustLocation'] = df['CustLocation'].str.title()"
   ]
  },
  {
   "cell_type": "markdown",
   "id": "deaed44a-17dd-4362-aa42-fc9ac96cd22d",
   "metadata": {},
   "source": [
    "##### Checking for null values"
   ]
  },
  {
   "cell_type": "code",
   "execution_count": 185,
   "id": "9214c511-0e9c-43b8-ad8c-0af1ceb364e4",
   "metadata": {},
   "outputs": [
    {
     "data": {
      "text/plain": [
       "TransactionID                  0\n",
       "CustomerID                     0\n",
       "CustomerDOB                60736\n",
       "CustGender                  1100\n",
       "CustLocation                 151\n",
       "CustAccountBalance          2369\n",
       "TransactionDate                0\n",
       "TransactionTime                0\n",
       "TransactionAmount (INR)        0\n",
       "dtype: int64"
      ]
     },
     "execution_count": 185,
     "metadata": {},
     "output_type": "execute_result"
    }
   ],
   "source": [
    "df.isnull().sum()"
   ]
  },
  {
   "cell_type": "markdown",
   "id": "93bc1d58-c2a9-4849-a751-4c76eedc5af9",
   "metadata": {},
   "source": [
    "##### Filling null values of CustGender and CustLocation columns with Not Specified"
   ]
  },
  {
   "cell_type": "code",
   "execution_count": 186,
   "id": "fd0b6c4e-77b2-449c-8c59-9365e810e321",
   "metadata": {},
   "outputs": [],
   "source": [
    "df.loc[df['CustGender'].isnull(), 'CustGender'] = 'Not Specified'"
   ]
  },
  {
   "cell_type": "code",
   "execution_count": 187,
   "id": "6222c79d-627c-4bd9-9107-0cce97712859",
   "metadata": {},
   "outputs": [
    {
     "data": {
      "text/plain": [
       "TransactionID                  0\n",
       "CustomerID                     0\n",
       "CustomerDOB                60736\n",
       "CustGender                     0\n",
       "CustLocation                 151\n",
       "CustAccountBalance          2369\n",
       "TransactionDate                0\n",
       "TransactionTime                0\n",
       "TransactionAmount (INR)        0\n",
       "dtype: int64"
      ]
     },
     "execution_count": 187,
     "metadata": {},
     "output_type": "execute_result"
    }
   ],
   "source": [
    "df.isnull().sum()"
   ]
  },
  {
   "cell_type": "code",
   "execution_count": 188,
   "id": "dd1abfbb-b05a-4288-a145-971badd44cdc",
   "metadata": {},
   "outputs": [],
   "source": [
    "df.loc[df['CustLocation'].isnull(), 'CustLocation'] = 'Not Specified'"
   ]
  },
  {
   "cell_type": "markdown",
   "id": "d84a6ff8-4df3-42cc-8af1-53ba53842aa2",
   "metadata": {},
   "source": [
    "##### Droping CustomerDOB null values"
   ]
  },
  {
   "cell_type": "code",
   "execution_count": 189,
   "id": "3d9b1bab-c810-4867-a492-a91e2115abec",
   "metadata": {},
   "outputs": [],
   "source": [
    "df = df.dropna(subset = ['CustomerDOB'])"
   ]
  },
  {
   "cell_type": "code",
   "execution_count": 190,
   "id": "3a124e4a-7bcb-4236-8166-918128dedc5c",
   "metadata": {},
   "outputs": [
    {
     "data": {
      "text/plain": [
       "TransactionID                 0\n",
       "CustomerID                    0\n",
       "CustomerDOB                   0\n",
       "CustGender                    0\n",
       "CustLocation                  0\n",
       "CustAccountBalance         2194\n",
       "TransactionDate               0\n",
       "TransactionTime               0\n",
       "TransactionAmount (INR)       0\n",
       "dtype: int64"
      ]
     },
     "execution_count": 190,
     "metadata": {},
     "output_type": "execute_result"
    }
   ],
   "source": [
    "df.isnull().sum()"
   ]
  },
  {
   "cell_type": "markdown",
   "id": "7b6782ff-139b-4746-add0-8fa0ab27d800",
   "metadata": {},
   "source": [
    "##### Calculating Age of Customers"
   ]
  },
  {
   "cell_type": "code",
   "execution_count": 192,
   "id": "529f146b-e1ae-4ec3-bfa8-124d1981a6bf",
   "metadata": {},
   "outputs": [],
   "source": [
    "current_date = pd.to_datetime(datetime.now().date())"
   ]
  },
  {
   "cell_type": "code",
   "execution_count": 222,
   "id": "153affa4-7774-4218-9c4a-2c0c0ec960ad",
   "metadata": {},
   "outputs": [],
   "source": [
    "df['Age'] = (current_date.year - df['CustomerDOB'].dt.year) - \\\n",
    "            ((current_date.month < df['CustomerDOB'].dt.month) | \n",
    "             ((current_date.month == df['CustomerDOB'].dt.month) & \n",
    "              (current_date.day < df['CustomerDOB'].dt.day)))"
   ]
  },
  {
   "cell_type": "markdown",
   "id": "b79293be-2c51-4bd4-9a07-20fb61df9f9e",
   "metadata": {},
   "source": [
    "##### Converting TransactionTime datatype from int to time"
   ]
  },
  {
   "cell_type": "code",
   "execution_count": 194,
   "id": "6e86eb37-8244-4baf-b88a-0af79fe35c3d",
   "metadata": {},
   "outputs": [],
   "source": [
    "df['TransactionTime'] = df['TransactionTime'].astype('str')"
   ]
  },
  {
   "cell_type": "code",
   "execution_count": 195,
   "id": "879ccefa-b37f-4b5b-811b-9a5f0bfdab7c",
   "metadata": {},
   "outputs": [],
   "source": [
    "#Pads the string with leading zeros to ensure it is 6 digits long.\n",
    "df['TransactionTime'] = df['TransactionTime'].str.zfill(6)"
   ]
  },
  {
   "cell_type": "code",
   "execution_count": 196,
   "id": "62f222e2-9167-4cb6-bdad-f92f8214737d",
   "metadata": {},
   "outputs": [],
   "source": [
    "df['TransactionTime'] = pd.to_datetime(df['TransactionTime'], format='%H%M%S').dt.time"
   ]
  },
  {
   "cell_type": "code",
   "execution_count": 197,
   "id": "5dab02d8-b48a-4d92-a809-6a008cb4cef0",
   "metadata": {},
   "outputs": [
    {
     "data": {
      "text/html": [
       "<div>\n",
       "<style scoped>\n",
       "    .dataframe tbody tr th:only-of-type {\n",
       "        vertical-align: middle;\n",
       "    }\n",
       "\n",
       "    .dataframe tbody tr th {\n",
       "        vertical-align: top;\n",
       "    }\n",
       "\n",
       "    .dataframe thead th {\n",
       "        text-align: right;\n",
       "    }\n",
       "</style>\n",
       "<table border=\"1\" class=\"dataframe\">\n",
       "  <thead>\n",
       "    <tr style=\"text-align: right;\">\n",
       "      <th></th>\n",
       "      <th>TransactionID</th>\n",
       "      <th>CustomerID</th>\n",
       "      <th>CustomerDOB</th>\n",
       "      <th>CustGender</th>\n",
       "      <th>CustLocation</th>\n",
       "      <th>CustAccountBalance</th>\n",
       "      <th>TransactionDate</th>\n",
       "      <th>TransactionTime</th>\n",
       "      <th>TransactionAmount (INR)</th>\n",
       "      <th>Age</th>\n",
       "    </tr>\n",
       "  </thead>\n",
       "  <tbody>\n",
       "    <tr>\n",
       "      <th>0</th>\n",
       "      <td>T1</td>\n",
       "      <td>C5841053</td>\n",
       "      <td>1994-01-10</td>\n",
       "      <td>F</td>\n",
       "      <td>Jamshedpur</td>\n",
       "      <td>17819.05</td>\n",
       "      <td>2016-08-02</td>\n",
       "      <td>14:32:07</td>\n",
       "      <td>25.0</td>\n",
       "      <td>30</td>\n",
       "    </tr>\n",
       "    <tr>\n",
       "      <th>1</th>\n",
       "      <td>T2</td>\n",
       "      <td>C2142763</td>\n",
       "      <td>1957-04-04</td>\n",
       "      <td>M</td>\n",
       "      <td>Jhajjar</td>\n",
       "      <td>2270.69</td>\n",
       "      <td>2016-08-02</td>\n",
       "      <td>14:18:58</td>\n",
       "      <td>27999.0</td>\n",
       "      <td>67</td>\n",
       "    </tr>\n",
       "    <tr>\n",
       "      <th>2</th>\n",
       "      <td>T3</td>\n",
       "      <td>C4417068</td>\n",
       "      <td>1996-11-26</td>\n",
       "      <td>F</td>\n",
       "      <td>Mumbai</td>\n",
       "      <td>17874.44</td>\n",
       "      <td>2016-08-02</td>\n",
       "      <td>14:27:12</td>\n",
       "      <td>459.0</td>\n",
       "      <td>27</td>\n",
       "    </tr>\n",
       "    <tr>\n",
       "      <th>3</th>\n",
       "      <td>T4</td>\n",
       "      <td>C5342380</td>\n",
       "      <td>1973-09-14</td>\n",
       "      <td>F</td>\n",
       "      <td>Mumbai</td>\n",
       "      <td>866503.21</td>\n",
       "      <td>2016-08-02</td>\n",
       "      <td>14:27:14</td>\n",
       "      <td>2060.0</td>\n",
       "      <td>50</td>\n",
       "    </tr>\n",
       "    <tr>\n",
       "      <th>4</th>\n",
       "      <td>T5</td>\n",
       "      <td>C9031234</td>\n",
       "      <td>1988-03-24</td>\n",
       "      <td>F</td>\n",
       "      <td>Navi Mumbai</td>\n",
       "      <td>6714.43</td>\n",
       "      <td>2016-08-02</td>\n",
       "      <td>18:11:56</td>\n",
       "      <td>1762.5</td>\n",
       "      <td>36</td>\n",
       "    </tr>\n",
       "  </tbody>\n",
       "</table>\n",
       "</div>"
      ],
      "text/plain": [
       "  TransactionID CustomerID CustomerDOB CustGender CustLocation  \\\n",
       "0            T1   C5841053  1994-01-10          F   Jamshedpur   \n",
       "1            T2   C2142763  1957-04-04          M      Jhajjar   \n",
       "2            T3   C4417068  1996-11-26          F       Mumbai   \n",
       "3            T4   C5342380  1973-09-14          F       Mumbai   \n",
       "4            T5   C9031234  1988-03-24          F  Navi Mumbai   \n",
       "\n",
       "   CustAccountBalance TransactionDate TransactionTime  \\\n",
       "0            17819.05      2016-08-02        14:32:07   \n",
       "1             2270.69      2016-08-02        14:18:58   \n",
       "2            17874.44      2016-08-02        14:27:12   \n",
       "3           866503.21      2016-08-02        14:27:14   \n",
       "4             6714.43      2016-08-02        18:11:56   \n",
       "\n",
       "   TransactionAmount (INR)  Age  \n",
       "0                     25.0   30  \n",
       "1                  27999.0   67  \n",
       "2                    459.0   27  \n",
       "3                   2060.0   50  \n",
       "4                   1762.5   36  "
      ]
     },
     "execution_count": 197,
     "metadata": {},
     "output_type": "execute_result"
    }
   ],
   "source": [
    "df.head()"
   ]
  },
  {
   "cell_type": "markdown",
   "id": "811dc9be-48eb-4c34-bfec-71cf5de5b23d",
   "metadata": {},
   "source": [
    "##### Checking for duplicates"
   ]
  },
  {
   "cell_type": "code",
   "execution_count": 201,
   "id": "e2d7b3d1-104a-4d3a-9566-22d9cb2ed98b",
   "metadata": {},
   "outputs": [
    {
     "data": {
      "text/html": [
       "<div>\n",
       "<style scoped>\n",
       "    .dataframe tbody tr th:only-of-type {\n",
       "        vertical-align: middle;\n",
       "    }\n",
       "\n",
       "    .dataframe tbody tr th {\n",
       "        vertical-align: top;\n",
       "    }\n",
       "\n",
       "    .dataframe thead th {\n",
       "        text-align: right;\n",
       "    }\n",
       "</style>\n",
       "<table border=\"1\" class=\"dataframe\">\n",
       "  <thead>\n",
       "    <tr style=\"text-align: right;\">\n",
       "      <th></th>\n",
       "      <th>TransactionID</th>\n",
       "      <th>CustomerID</th>\n",
       "      <th>CustomerDOB</th>\n",
       "      <th>CustGender</th>\n",
       "      <th>CustLocation</th>\n",
       "      <th>CustAccountBalance</th>\n",
       "      <th>TransactionDate</th>\n",
       "      <th>TransactionTime</th>\n",
       "      <th>TransactionAmount (INR)</th>\n",
       "      <th>Age</th>\n",
       "    </tr>\n",
       "  </thead>\n",
       "  <tbody>\n",
       "  </tbody>\n",
       "</table>\n",
       "</div>"
      ],
      "text/plain": [
       "Empty DataFrame\n",
       "Columns: [TransactionID, CustomerID, CustomerDOB, CustGender, CustLocation, CustAccountBalance, TransactionDate, TransactionTime, TransactionAmount (INR), Age]\n",
       "Index: []"
      ]
     },
     "execution_count": 201,
     "metadata": {},
     "output_type": "execute_result"
    }
   ],
   "source": [
    "df[df.duplicated()]"
   ]
  },
  {
   "cell_type": "code",
   "execution_count": 214,
   "id": "01ff44b8-f53e-4fc4-8e21-069e6f08651f",
   "metadata": {},
   "outputs": [],
   "source": [
    "df.rename(columns={'TransactionAmount(INR)': 'TransactionAmount'}, inplace = True)"
   ]
  },
  {
   "cell_type": "code",
   "execution_count": 215,
   "id": "0d7199bc-5947-4f9d-a878-0e1049aaf35e",
   "metadata": {},
   "outputs": [
    {
     "data": {
      "text/plain": [
       "Index(['TransactionID', 'CustomerID', 'CustomerDOB', 'CustGender',\n",
       "       'CustLocation', 'CustAccountBalance', 'TransactionDate',\n",
       "       'TransactionTime', 'TransactionAmount', 'Age'],\n",
       "      dtype='object')"
      ]
     },
     "execution_count": 215,
     "metadata": {},
     "output_type": "execute_result"
    }
   ],
   "source": [
    "df.columns"
   ]
  },
  {
   "cell_type": "markdown",
   "id": "2b55982c-c43a-412e-99c5-5ec6b7cf23b2",
   "metadata": {},
   "source": [
    "### Importing the data into database"
   ]
  },
  {
   "cell_type": "code",
   "execution_count": 225,
   "id": "70da9446-d10e-461e-9ad0-5a47bb523229",
   "metadata": {},
   "outputs": [],
   "source": [
    "import sqlalchemy as sal\n",
    "engine = sal.create_engine('mssql://LAPTOP-ULT14LHF\\SQLEXPRESS/bank_transactions?driver=ODBC+DRIVER+17+FOR+SQL+SERVER')\n",
    "conn = engine.connect()"
   ]
  },
  {
   "cell_type": "code",
   "execution_count": 226,
   "id": "2fa8db18-050f-46e6-bb1b-41bc3a8e63b6",
   "metadata": {},
   "outputs": [
    {
     "data": {
      "text/plain": [
       "-1"
      ]
     },
     "execution_count": 226,
     "metadata": {},
     "output_type": "execute_result"
    }
   ],
   "source": [
    "df.to_sql('cust_transactions', con = conn, index = False, if_exists = 'replace')"
   ]
  },
  {
   "cell_type": "code",
   "execution_count": null,
   "id": "21eae93a-7023-4e29-90a5-d0ef4fd2499c",
   "metadata": {},
   "outputs": [],
   "source": []
  }
 ],
 "metadata": {
  "kernelspec": {
   "display_name": "Python 3 (ipykernel)",
   "language": "python",
   "name": "python3"
  },
  "language_info": {
   "codemirror_mode": {
    "name": "ipython",
    "version": 3
   },
   "file_extension": ".py",
   "mimetype": "text/x-python",
   "name": "python",
   "nbconvert_exporter": "python",
   "pygments_lexer": "ipython3",
   "version": "3.11.5"
  }
 },
 "nbformat": 4,
 "nbformat_minor": 5
}
